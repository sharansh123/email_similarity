{
  "cells": [
    {
      "metadata": {},
      "cell_type": "markdown",
      "source": "# **Email Similiarity**"
    },
    {
      "metadata": {},
      "cell_type": "markdown",
      "source": "**In this project , implementing Naive Bayes Classifier on different datasets we are going to see how difficult it is to distinguish between the emails about different topics**"
    },
    {
      "metadata": {
        "trusted": true
      },
      "cell_type": "code",
      "source": "from sklearn.datasets import fetch_20newsgroups\nfrom sklearn.naive_bayes import MultinomialNB\nfrom sklearn.feature_extraction.text import CountVectorizer\nfrom sklearn.model_selection import train_test_split\nimport pandas as pd\n\n",
      "execution_count": 7,
      "outputs": []
    },
    {
      "metadata": {},
      "cell_type": "markdown",
      "source": "## **Exploring the datasets**"
    },
    {
      "metadata": {},
      "cell_type": "markdown",
      "source": "Loading the datasets of emails about baseball and hockey."
    },
    {
      "metadata": {
        "trusted": true
      },
      "cell_type": "code",
      "source": "emails = fetch_20newsgroups(categories=['rec.sport.baseball', 'rec.sport.hockey'])\n\nprint(emails.data[5])\nprint(emails.target[5])\n\n",
      "execution_count": 10,
      "outputs": [
        {
          "output_type": "stream",
          "text": "From: mmb@lamar.ColoState.EDU (Michael Burger)\nSubject: More TV Info\nDistribution: na\nNntp-Posting-Host: lamar.acns.colostate.edu\nOrganization: Colorado State University, Fort Collins, CO  80523\nLines: 36\n\nUnited States Coverage:\nSunday April 18\n  N.J./N.Y.I. at Pittsburgh - 1:00 EDT to Eastern Time Zone\n  ABC - Gary Thorne and Bill Clement\n\n  St. Louis at Chicago - 12:00 CDT and 11:00 MDT - to Central/Mountain Zones\n  ABC - Mike Emerick and Jim Schoenfeld\n\n  Los Angeles at Calgary - 12:00 PDT and 11:00 ADT - to Pacific/Alaskan Zones\n  ABC - Al Michaels and John Davidson\n\nTuesday, April 20\n  N.J./N.Y.I. at Pittsburgh - 7:30 EDT Nationwide\n  ESPN - Gary Thorne and Bill Clement\n\nThursday, April 22 and Saturday April 24\n  To Be Announced - 7:30 EDT Nationwide\n  ESPN - To Be Announced\n\n\nCanadian Coverage:\n\nSunday, April 18\n  Buffalo at Boston - 7:30 EDT Nationwide\n  TSN - ???\n\nTuesday, April 20\n  N.J.D./N.Y. at Pittsburgh - 7:30 EDT Nationwide\n  TSN - ???\n\nWednesday, April 21\n  St. Louis at Chicago - 8:30 EDT Nationwide\n  TSN - ???\n\n\n\n\n1\n",
          "name": "stdout"
        }
      ]
    },
    {
      "metadata": {},
      "cell_type": "markdown",
      "source": "## **Training the Naive Bayes Classifier**"
    },
    {
      "metadata": {},
      "cell_type": "markdown",
      "source": "**First we split the dataset into training data and test data. We transform the emails into a list of word counts using the CountVectorizer classifier. After transforming the datasets, we train the Naive Bayes Classifier i.e. MultinomialNB classifier and print the accuracy of the classifier measured with test dataset.**"
    },
    {
      "metadata": {
        "trusted": true
      },
      "cell_type": "code",
      "source": "train_emails = fetch_20newsgroups(categories=['rec.sport.baseball', 'rec.sport.hockey'],subset=\"train\",shuffle=True,random_state=180)\n\ntest_emails = fetch_20newsgroups(categories=['rec.sport.baseball', 'rec.sport.hockey'],subset=\"test\",shuffle=True,random_state=180)\n\ncounter = CountVectorizer()\n\ncounter.fit(test_emails.data+train_emails.data)\n\ntrain_counts=counter.transform(train_emails.data)\ntest_counts = counter.transform(test_emails.data)\n\nclassifier = MultinomialNB()\nclassifier.fit(train_counts,train_emails.target)\n\nprint(classifier.score(test_counts,test_emails.target))",
      "execution_count": 19,
      "outputs": [
        {
          "output_type": "stream",
          "text": "0.9723618090452262\n",
          "name": "stdout"
        }
      ]
    },
    {
      "metadata": {},
      "cell_type": "markdown",
      "source": "**As we can see the accuracy is 0.9723 and thus, the emails about hockey and baseball can be classified with accuracy of 97.2% which is intuitive as both the emails are related to sports. Now, I am going to compare the similarity between emails about two non-related topics i.e. system hardware and religion and then check the accuracy**"
    },
    {
      "metadata": {
        "trusted": true
      },
      "cell_type": "code",
      "source": "emails_1 = fetch_20newsgroups(categories=['comp.sys.ibm.pc.hardware','talk.religion.misc'])",
      "execution_count": 13,
      "outputs": []
    },
    {
      "metadata": {
        "trusted": true
      },
      "cell_type": "code",
      "source": "train_emails = fetch_20newsgroups(categories=['comp.sys.ibm.pc.hardware','talk.religion.misc'],subset=\"train\",shuffle=True,random_state=180)\n\ntest_emails = fetch_20newsgroups(categories=['comp.sys.ibm.pc.hardware','talk.religion.misc'],subset=\"test\",shuffle=True,random_state=180)\n\ncounter = CountVectorizer()\n\ncounter.fit(test_emails.data+train_emails.data)\n\ntrain_counts=counter.transform(train_emails.data)\ntest_counts = counter.transform(test_emails.data)\n\nclassifier = MultinomialNB()\nclassifier.fit(train_counts,train_emails.target)\n\nprint(classifier.score(test_counts,test_emails.target))",
      "execution_count": 21,
      "outputs": [
        {
          "output_type": "stream",
          "text": "0.9906687402799378\n",
          "name": "stdout"
        }
      ]
    },
    {
      "metadata": {},
      "cell_type": "markdown",
      "source": "**As we can see the accuracy increases from 97 to 99 which shows that it is easier to distinguish between religion and hardwares than between baseball and hockey. Lets see how the emails about politics in middle east can differed from emails about politics and guns**"
    },
    {
      "metadata": {
        "trusted": true
      },
      "cell_type": "code",
      "source": "train_emails = fetch_20newsgroups(categories=['talk.politics.guns','talk.politics.mideast'],subset=\"train\",shuffle=True,random_state=180)\n\ntest_emails = fetch_20newsgroups(categories=['talk.politics.guns','talk.politics.mideast'],subset=\"test\",shuffle=True,random_state=180)\n\ncounter = CountVectorizer()\n\ncounter.fit(test_emails.data+train_emails.data)\n\ntrain_counts=counter.transform(train_emails.data)\ntest_counts = counter.transform(test_emails.data)\n\nclassifier = MultinomialNB()\nclassifier.fit(train_counts,train_emails.target)\n\nprint(classifier.score(test_counts,test_emails.target))",
      "execution_count": 20,
      "outputs": [
        {
          "output_type": "stream",
          "text": "0.9837837837837838\n",
          "name": "stdout"
        }
      ]
    },
    {
      "metadata": {},
      "cell_type": "markdown",
      "source": "**As we can see the accuracy is more for emails about politics in middle east and guns is more than emails about hockey and baseball. Thus, the emails about politics in middle east and politics in guns is more similar than hockey and baseball emails which might refer to a theory about involvement of guns in politics of middle east.**\n\n**Lets see the similarities between emails about politics and emails about religion**"
    },
    {
      "metadata": {
        "trusted": true
      },
      "cell_type": "code",
      "source": "train_emails = fetch_20newsgroups(categories=['talk.politics.misc','talk.religion.misc'],subset=\"train\",shuffle=True,random_state=180)\n\ntest_emails = fetch_20newsgroups(categories=['talk.politics.misc','talk.religion.misc'],subset=\"test\",shuffle=True,random_state=180)\n\ncounter = CountVectorizer()\n\ncounter.fit(test_emails.data+train_emails.data)\n\ntrain_counts=counter.transform(train_emails.data)\ntest_counts = counter.transform(test_emails.data)\n\nclassifier = MultinomialNB()\nclassifier.fit(train_counts,train_emails.target)\n\nprint(classifier.score(test_counts,test_emails.target))",
      "execution_count": 22,
      "outputs": [
        {
          "output_type": "stream",
          "text": "0.8805704099821747\n",
          "name": "stdout"
        }
      ]
    },
    {
      "metadata": {},
      "cell_type": "markdown",
      "source": "**As we see the accuracy is low compared to other accuracies calculated above which indicates there is less similarity in emails between politics and religion than emails about hockey and baseball which indicates that emails related to politics has less chance of involving a religion related topics and more chance of involving gun-related topics.**"
    },
    {
      "metadata": {
        "trusted": true
      },
      "cell_type": "code",
      "source": "",
      "execution_count": null,
      "outputs": []
    }
  ],
  "metadata": {
    "kernelspec": {
      "name": "python3",
      "display_name": "Python 3",
      "language": "python"
    },
    "language_info": {
      "mimetype": "text/x-python",
      "nbconvert_exporter": "python",
      "name": "python",
      "pygments_lexer": "ipython3",
      "version": "3.5.4",
      "file_extension": ".py",
      "codemirror_mode": {
        "version": 3,
        "name": "ipython"
      }
    }
  },
  "nbformat": 4,
  "nbformat_minor": 1
}